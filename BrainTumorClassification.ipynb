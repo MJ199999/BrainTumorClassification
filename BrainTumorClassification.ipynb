{
  "cells": [
    {
      "cell_type": "code",
      "execution_count": null,
      "metadata": {
        "colab": {
          "background_save": true
        },
        "id": "Sv9yteh_AMLK",
        "outputId": "20f3f3cb-483f-4348-a917-d3cf3fbdc68f"
      },
      "outputs": [
        {
          "name": "stdout",
          "output_type": "stream",
          "text": [
            "Mounted at /gdrive\n"
          ]
        }
      ],
      "source": [
        "from google.colab import drive\n",
        "drive.mount('/gdrive')"
      ]
    },
    {
      "cell_type": "code",
      "execution_count": null,
      "metadata": {
        "id": "9VlTWlV1ASKG"
      },
      "outputs": [],
      "source": [
        "# %cd /gdrive/MyDrive/Colab Notebooks/dataset\n",
        "# !unzip -qq \"/gdrive/MyDrive/Colab Notebooks/dataset/archive.zip\""
      ]
    },
    {
      "cell_type": "code",
      "execution_count": null,
      "metadata": {
        "id": "finlEoNBiHPh"
      },
      "outputs": [],
      "source": [
        "import tensorflow as tf\n",
        "model = tf.keras.models.load_model('/gdrive/MyDrive/Colab Notebooks/best_model_vgg16')"
      ]
    },
    {
      "cell_type": "code",
      "execution_count": null,
      "metadata": {
        "id": "Dtf-xB6kjvGQ"
      },
      "outputs": [],
      "source": [
        "import numpy as np\n",
        "import pandas as pd\n",
        "import matplotlib.pyplot as plt"
      ]
    },
    {
      "cell_type": "code",
      "execution_count": null,
      "metadata": {
        "colab": {
          "base_uri": "https://localhost:8080/"
        },
        "id": "OWfgWtMsiw0D",
        "outputId": "6b426d0d-7d11-4ee8-ccd7-d6fb6d407b26"
      },
      "outputs": [
        {
          "name": "stdout",
          "output_type": "stream",
          "text": [
            "Found 2441 images belonging to 4 classes.\n",
            "Found 429 images belonging to 4 classes.\n",
            "Found 394 images belonging to 4 classes.\n"
          ]
        }
      ],
      "source": [
        "from tensorflow.keras.preprocessing.image import ImageDataGenerator\n",
        "train_datagen = ImageDataGenerator(\n",
        "    rescale=1./255, \n",
        "    rotation_range=10,\n",
        "    width_shift_range=0.1,\n",
        "    height_shift_range=0.1,\n",
        "    zoom_range=0.1,\n",
        "    horizontal_flip=True,\n",
        "    vertical_flip=True,\n",
        "    validation_split=0.15)\n",
        "\n",
        "test_datagen = ImageDataGenerator(rescale=1./255)\n",
        "\n",
        "train_gen = train_datagen.flow_from_directory(\n",
        "    '/gdrive/MyDrive/tmp/BrainTumor/Training',\n",
        "    target_size=(200, 200),\n",
        "    shuffle=True,\n",
        "    batch_size=64,\n",
        "    class_mode='categorical', # one hot encoding\n",
        "    subset='training'\n",
        ")\n",
        "\n",
        "valid_gen = train_datagen.flow_from_directory(\n",
        "    '/gdrive/MyDrive/tmp/BrainTumor/Training',\n",
        "    target_size=(200, 200),\n",
        "    shuffle=True,\n",
        "    batch_size=64,\n",
        "    class_mode='categorical', # one hot encoding\n",
        "    subset='validation'\n",
        ")\n",
        "\n",
        "test_gen = test_datagen.flow_from_directory(\n",
        "    '/gdrive/MyDrive/tmp/BrainTumor/Testing',\n",
        "    target_size=(200, 200),\n",
        "    batch_size=64,\n",
        "    class_mode='categorical'\n",
        ")\n"
      ]
    },
    {
      "cell_type": "code",
      "execution_count": null,
      "metadata": {
        "id": "jQihckODanVS"
      },
      "outputs": [],
      "source": [
        "n_img = train_gen.n\n",
        "steps = n_img // 32\n",
        "imgs, labels = [], []\n",
        "for i in range(steps):\n",
        "    a, b = train_gen.next()\n",
        "    imgs.extend(a)\n",
        "    labels.extend(b)\n",
        "\n",
        "imgs = np.asarray(imgs)\n",
        "labels = np.asarray(labels)"
      ]
    },
    {
      "cell_type": "code",
      "execution_count": null,
      "metadata": {
        "id": "5gG3-CWJjfqr"
      },
      "outputs": [],
      "source": [
        "x_train, y_train = train_gen.next()\n",
        "x_test, y_test = test_gen.next()"
      ]
    },
    {
      "cell_type": "code",
      "execution_count": null,
      "metadata": {
        "id": "Oy0SASAGwQ3_"
      },
      "outputs": [],
      "source": [
        "# copy from https://gist.github.com/stared/dfb4dfaf6d9a8501cd1cc8b8cb806d2e\n",
        "\n",
        "from IPython.display import clear_output\n",
        "from tensorflow.keras.callbacks import Callback\n",
        "\n",
        "class PlotLosses(Callback):\n",
        "\n",
        "  def on_train_begin(self, logs={}):\n",
        "    self.epochs = []\n",
        "    self.losses = []\n",
        "    self.val_losses = []\n",
        "    self.logs = []\n",
        "    self.fig = plt.figure()\n",
        "\n",
        "\n",
        "  def on_epoch_end(self, epoch, logs={}):\n",
        "\n",
        "    self.epochs.append(epoch)\n",
        "    self.losses.append(logs.get('loss'))\n",
        "    self.val_losses.append(logs.get('val_loss'))\n",
        "\n",
        "    clear_output(wait=True)\n",
        "    plt.plot(self.epochs, self.losses, label=\"loss\")\n",
        "    plt.plot(self.epochs, self.val_losses, label=\"val_loss\")\n",
        "    plt.legend()\n",
        "    plt.show();\n",
        "    print(\"loss = \", self.losses[-1], \", val_loss = \", self.val_losses[-1])"
      ]
    },
    {
      "cell_type": "code",
      "execution_count": null,
      "metadata": {
        "colab": {
          "base_uri": "https://localhost:8080/"
        },
        "id": "CNY4j-qsi3AP",
        "outputId": "37644c98-6ee5-4df3-be17-3b9c28fdb123"
      },
      "outputs": [
        {
          "name": "stdout",
          "output_type": "stream",
          "text": [
            "Downloading data from https://storage.googleapis.com/keras-applications/efficientnetb3_notop.h5\n",
            "43941888/43941136 [==============================] - 0s 0us/step\n",
            "43950080/43941136 [==============================] - 0s 0us/step\n"
          ]
        }
      ],
      "source": [
        "from tensorflow.keras.applications import EfficientNetB3 # VGG16\n",
        "EfficientNet=EfficientNetB3(weights='imagenet', include_top=False, input_shape=(200,200,3))"
      ]
    },
    {
      "cell_type": "code",
      "execution_count": null,
      "metadata": {
        "colab": {
          "base_uri": "https://localhost:8080/"
        },
        "id": "iob5tr1w_e-w",
        "outputId": "ecf6ddb9-4d4a-4aa0-d6fc-67cbdbafc855"
      },
      "outputs": [
        {
          "name": "stdout",
          "output_type": "stream",
          "text": [
            "Downloading data from https://storage.googleapis.com/tensorflow/keras-applications/vgg16/vgg16_weights_tf_dim_ordering_tf_kernels_notop.h5\n",
            "58892288/58889256 [==============================] - 0s 0us/step\n",
            "58900480/58889256 [==============================] - 0s 0us/step\n"
          ]
        }
      ],
      "source": [
        "from tensorflow.keras.applications import VGG16\n",
        "VGG16=VGG16(weights='imagenet', include_top=False, input_shape=(200,200,3))"
      ]
    },
    {
      "cell_type": "code",
      "execution_count": null,
      "metadata": {
        "id": "4ed89zP7BHaf"
      },
      "outputs": [],
      "source": [
        "import numpy as np\n",
        "import pandas as pd\n",
        "import matplotlib.pyplot as pyplot\n",
        "import tensorflow as tf\n",
        "from tensorflow.keras.layers import Flatten, Dense, Dropout, Conv2D, MaxPooling2D, BatchNormalization\n",
        "from tensorflow.keras import Sequential\n",
        "from tensorflow.keras.regularizers import l2\n",
        "\n",
        "model = Sequential([\n",
        "    VGG16,\n",
        "    # Conv2D(128, (3, 3), input_shape=(256, 256, 3), padding='same', activation='relu'),\n",
        "    # MaxPooling2D(2, 2),\n",
        "    # Conv2D(64, (3, 3), activation='relu', padding='same'),\n",
        "    # MaxPooling2D(2, 2),    \n",
        "    # Conv2D(64, (3, 3), activation='relu', padding='same'),\n",
        "    # MaxPooling2D(2, 2),\n",
        "    # Conv2D(64, (3, 3), activation='relu', padding='same'),\n",
        "    # MaxPooling2D(2, 2),\n",
        "    # BatchNormalization(),\n",
        "    Flatten(), \n",
        "    # Dropout(0.3),\n",
        "    Dense(64, activation='relu', kernel_regularizer=l2()),\n",
        "    Dropout(0.3),\n",
        "    # Dense(256, activation='relu'),\n",
        "    # Dropout(0.3),    \n",
        "    # Dense(64, activation='relu'),\n",
        "    # Dropout(0.3),    \n",
        "    # Dense(32, activation='relu'),\n",
        "    # Dropout(0.3),    \n",
        "    # Dense(32, activation='relu'),\n",
        "    # Dropout(0.3),    \n",
        "    Dense(16, activation='relu', kernel_regularizer=l2()),\n",
        "    BatchNormalization(),\n",
        "    Dropout(0.3),\n",
        "    # Dense(32, activation='relu')\n",
        "    Dense(4, activation='softmax')\n",
        "])\n"
      ]
    },
    {
      "cell_type": "code",
      "execution_count": null,
      "metadata": {
        "colab": {
          "base_uri": "https://localhost:8080/"
        },
        "id": "080jhN2GcsT7",
        "outputId": "90b56b53-f3b0-44c6-ddb4-a34a0ef3332e"
      },
      "outputs": [
        {
          "name": "stdout",
          "output_type": "stream",
          "text": [
            "Model: \"sequential\"\n",
            "_________________________________________________________________\n",
            " Layer (type)                Output Shape              Param #   \n",
            "=================================================================\n",
            " vgg16 (Functional)          (None, 6, 6, 512)         14714688  \n",
            "                                                                 \n",
            " flatten (Flatten)           (None, 18432)             0         \n",
            "                                                                 \n",
            " dense (Dense)               (None, 64)                1179712   \n",
            "                                                                 \n",
            " dropout (Dropout)           (None, 64)                0         \n",
            "                                                                 \n",
            " dense_1 (Dense)             (None, 16)                1040      \n",
            "                                                                 \n",
            " batch_normalization (BatchN  (None, 16)               64        \n",
            " ormalization)                                                   \n",
            "                                                                 \n",
            " dropout_1 (Dropout)         (None, 16)                0         \n",
            "                                                                 \n",
            " dense_2 (Dense)             (None, 4)                 68        \n",
            "                                                                 \n",
            "=================================================================\n",
            "Total params: 15,895,572\n",
            "Trainable params: 15,895,540\n",
            "Non-trainable params: 32\n",
            "_________________________________________________________________\n"
          ]
        }
      ],
      "source": [
        "model.summary()"
      ]
    },
    {
      "cell_type": "code",
      "execution_count": null,
      "metadata": {
        "colab": {
          "background_save": true,
          "base_uri": "https://localhost:8080/",
          "height": 375
        },
        "id": "uMfgKpMNidk9",
        "outputId": "3c2c2088-920b-41e1-f0f2-b7891234bbce"
      },
      "outputs": [
        {
          "data": {
            "image/png": "[encoded data removed]",
            "text/plain": [
              "<Figure size 432x288 with 1 Axes>"
            ]
          },
          "metadata": {},
          "output_type": "display_data"
        },
        {
          "name": "stdout",
          "output_type": "stream",
          "text": [
            "loss =  0.05587974935770035 , val_loss =  0.8487363457679749\n",
            "\n",
            "Epoch 109: val_loss did not improve from 0.53944\n",
            "39/39 [==============================] - 33s 834ms/step - loss: 0.0559 - accuracy: 0.9922 - val_loss: 0.8487 - val_accuracy: 0.8555 - lr: 0.0012\n",
            "Epoch 110/200\n",
            "29/39 [=====================>........] - ETA: 6s - loss: 0.0545 - accuracy: 0.9928"
          ]
        }
      ],
      "source": [
        "from tensorflow.keras.optimizers import Adam\n",
        "from tensorflow.keras.callbacks import ReduceLROnPlateau, ModelCheckpoint\n",
        "\n",
        "checkpoint=ModelCheckpoint('best_model2_vgg16.h5', monitor='val_loss', save_best_only=True, verbose=1)\n",
        "optimizer = Adam(learning_rate=0.01)\n",
        "model.compile(optimizer=optimizer, loss='categorical_crossentropy', metrics=['accuracy'])\n",
        "\n",
        "reduce_lr = ReduceLROnPlateau(monitor='val_loss', patience=20, factor=0.5, verbose=1, min_learning_rate=0.0001)\n",
        "plot_losses = PlotLosses()\n",
        "\n",
        "train_history = model.fit(train_gen, epochs=200, validation_data = valid_gen, verbose=1, callbacks=[plot_losses, reduce_lr, checkpoint])\n",
        "test_history = model.evaluate(test_gen)"
      ]
    },
    {
      "cell_type": "code",
      "execution_count": null,
      "metadata": {
        "id": "BNhOwIvLsFix"
      },
      "outputs": [],
      "source": [
        "test_history"
      ]
    },
    {
      "cell_type": "code",
      "execution_count": null,
      "metadata": {
        "id": "RavPz0YzAICP"
      },
      "outputs": [],
      "source": [
        "model = tf.keras.models.load_model('best_model_vgg16.h5')"
      ]
    },
    {
      "cell_type": "code",
      "execution_count": null,
      "metadata": {
        "id": "NiSa2TE5hzM5"
      },
      "outputs": [],
      "source": [
        "model.save('/gdrive/MyDrive/Colab Notebooks/best_model_vgg16/')"
      ]
    }
  ],
  "metadata": {
    "accelerator": "GPU",
    "colab": {
      "collapsed_sections": [],
      "machine_shape": "hm",
      "provenance": []
    },
    "gpuClass": "premium",
    "kernelspec": {
      "display_name": "Python 3",
      "name": "python3"
    },
    "language_info": {
      "name": "python"
    }
  },
  "nbformat": 4,
  "nbformat_minor": 0
}